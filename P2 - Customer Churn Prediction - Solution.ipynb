{
 "cells": [
  {
   "cell_type": "markdown",
   "id": "7d02fc1c",
   "metadata": {},
   "source": [
    "### Overview\n",
    "Customer churn, or customer attrition, refers to when a customer ceases their relationship with a company or service provider. In today's highly competitive business environment, retaining customers is a critical factor for long-term success. Predicting customer churn can help organizations take proactive steps to retain customers, thus minimizing revenue loss. This project aims to build a machine learning model that can predict whether a customer will churn based on their demographic, account, and service-related data.\n"
   ]
  },
  {
   "cell_type": "code",
   "execution_count": null,
   "id": "4bac6db8",
   "metadata": {},
   "outputs": [],
   "source": [
    "import numpy as np\n",
    "import pandas as pd\n",
    "import matplotlib.pyplot as plt\n",
    "import seaborn as sns\n",
    "\n",
    "from sklearn.preprocessing import LabelEncoder\n",
    "from sklearn.model_selection import train_test_split\n",
    "from sklearn.linear_model import LogisticRegression\n",
    "from sklearn.neighbors import KNeighborsClassifier\n",
    "from sklearn.tree import DecisionTreeClassifier\n",
    "from sklearn.svm import SVC\n",
    "from sklearn.metrics import confusion_matrix, classification_report, accuracy_score\n",
    "\n",
    "import warnings\n",
    "warnings.filterwarnings(\"ignore\")"
   ]
  },
  {
   "cell_type": "code",
   "execution_count": null,
   "id": "3335b16f",
   "metadata": {},
   "outputs": [],
   "source": [
    "df = pd.read_csv('DataSets\\data_file.csv')\n",
    "\n",
    "df.head(10)"
   ]
  },
  {
   "cell_type": "markdown",
   "id": "245f5fe8-e615-4c87-b522-bd9c4d684291",
   "metadata": {},
   "source": [
    "### Data Understanding"
   ]
  },
  {
   "cell_type": "code",
   "execution_count": null,
   "id": "e0c4116b",
   "metadata": {
    "scrolled": true
   },
   "outputs": [],
   "source": [
    "df.info()"
   ]
  },
  {
   "cell_type": "code",
   "execution_count": null,
   "id": "b1f2e656",
   "metadata": {},
   "outputs": [],
   "source": [
    "# Drop the Total charges column\n",
    "\n",
    "df = df.drop('TotalCharges', axis = 1)"
   ]
  },
  {
   "cell_type": "code",
   "execution_count": null,
   "id": "6acb72a2",
   "metadata": {},
   "outputs": [],
   "source": [
    "df.SeniorCitizen = df.SeniorCitizen.apply(lambda x: 'No' if x == 0 else 'Yes')"
   ]
  },
  {
   "cell_type": "code",
   "execution_count": null,
   "id": "1b2448f9",
   "metadata": {},
   "outputs": [],
   "source": [
    "# Drop the CustomerID column\n",
    "\n",
    "df = df.drop('customerID', axis = 1)"
   ]
  },
  {
   "cell_type": "code",
   "execution_count": null,
   "id": "250cf0fc",
   "metadata": {},
   "outputs": [],
   "source": [
    "df.head()"
   ]
  },
  {
   "cell_type": "markdown",
   "id": "f3c30093-4846-4975-ae13-0bb34f49f5a3",
   "metadata": {},
   "source": [
    "### Exploratory Data Analysis"
   ]
  },
  {
   "cell_type": "code",
   "execution_count": null,
   "id": "dcaa712a",
   "metadata": {},
   "outputs": [],
   "source": [
    "cvars = [column for column in df.columns if df[column].dtypes != 'object']"
   ]
  },
  {
   "cell_type": "code",
   "execution_count": null,
   "id": "eda14053",
   "metadata": {},
   "outputs": [],
   "source": [
    "fig, ax = plt.subplots(1, 2, figsize=(15, 5))\n",
    "\n",
    "for i, x in enumerate(cvars):\n",
    "    ax[i].hist(df[x][df.Churn=='No'], label='Churn = 0', bins=30)\n",
    "    ax[i].hist(df[x][df.Churn=='Yes'], label='Churn = 1', bins=30)\n",
    "    ax[i].set(xlabel=x, ylabel='count')\n",
    "    ax[i].legend() "
   ]
  },
  {
   "cell_type": "code",
   "execution_count": null,
   "id": "31f32cca",
   "metadata": {},
   "outputs": [],
   "source": [
    "df.info()"
   ]
  },
  {
   "cell_type": "code",
   "execution_count": null,
   "id": "d3d48e47",
   "metadata": {},
   "outputs": [],
   "source": [
    "# Cat Var and the impact on churn\n",
    "\n",
    "cat_var = [column for column in df.columns if df[column].dtypes == 'object']\n",
    "\n",
    "cat_var_noChurn = cat_var[:-1]\n",
    "\n",
    "fig, ax = plt.subplots(4, 4, figsize=(20, 20))\n",
    "\n",
    "for axi, var in zip(ax.flat, cat_var_noChurn):\n",
    "    sns.countplot(x=df.Churn, hue=df[var], ax=axi)"
   ]
  },
  {
   "cell_type": "markdown",
   "id": "2af2da7e-dc04-497c-9e41-7a5654679aad",
   "metadata": {},
   "source": [
    "### Data Preprocessing"
   ]
  },
  {
   "cell_type": "code",
   "execution_count": null,
   "id": "f57cbd07",
   "metadata": {},
   "outputs": [],
   "source": [
    "le = LabelEncoder()\n",
    "\n",
    "for x in [column for column in df.columns if len(df[column].unique())==2]:\n",
    "    print(x, df[x].unique())\n",
    "    df[x] = le.fit_transform(df[x])"
   ]
  },
  {
   "cell_type": "code",
   "execution_count": null,
   "id": "1107973a",
   "metadata": {},
   "outputs": [],
   "source": [
    "df.head()"
   ]
  },
  {
   "cell_type": "code",
   "execution_count": null,
   "id": "c10d9940",
   "metadata": {},
   "outputs": [],
   "source": [
    "df = pd.get_dummies(df, columns = [column for column in df.columns if df[column].dtypes=='object'], drop_first=True)"
   ]
  },
  {
   "cell_type": "code",
   "execution_count": null,
   "id": "86b33e9d",
   "metadata": {},
   "outputs": [],
   "source": [
    "df.head()"
   ]
  },
  {
   "cell_type": "code",
   "execution_count": null,
   "id": "d20c5d38",
   "metadata": {},
   "outputs": [],
   "source": [
    "# Splitting the dataset\n",
    "\n",
    "X = df.drop('Churn', axis = 1)\n",
    "y = df['Churn']"
   ]
  },
  {
   "cell_type": "markdown",
   "id": "5d0837b8-1813-4f9e-bc08-66e4a0d179c8",
   "metadata": {},
   "source": [
    "### Model Building"
   ]
  },
  {
   "cell_type": "code",
   "execution_count": null,
   "id": "2ac232df",
   "metadata": {},
   "outputs": [],
   "source": [
    "X_train, X_test, y_train, y_test = train_test_split(X, y, test_size = 0.25, random_state = 0)"
   ]
  },
  {
   "cell_type": "markdown",
   "id": "403bd4ed-9851-4eac-aac8-c8c44672502d",
   "metadata": {},
   "source": [
    "#### Logistic Regression"
   ]
  },
  {
   "cell_type": "code",
   "execution_count": null,
   "id": "7d8251d0-2e7d-44c7-ab86-6261c7ec9388",
   "metadata": {},
   "outputs": [],
   "source": [
    "log_reg = LogisticRegression()\n",
    "log_reg.fit(X_train, y_train)\n",
    "lr_pred = log_reg.predict(X_test)"
   ]
  },
  {
   "cell_type": "code",
   "execution_count": null,
   "id": "a19d7d76-7ea7-4863-95a6-9e31ac57a850",
   "metadata": {},
   "outputs": [],
   "source": [
    "print(\"\\nLogistic Regression Model:\")\n",
    "print(f\"{round(accuracy_score(y_test, lr_pred)*100, 2)} %\")\n",
    "print(classification_report(y_test, lr_pred))"
   ]
  },
  {
   "cell_type": "code",
   "execution_count": null,
   "id": "72c8df95-ba2e-460f-8975-87d60f681e99",
   "metadata": {},
   "outputs": [],
   "source": [
    "conf_mat = confusion_matrix(y_test, lr_pred)\n",
    "sns.heatmap(conf_mat.T, annot = True, fmt='d', cbar=False,\n",
    "           xticklabels=['No', 'Yes'],\n",
    "           yticklabels=['No', 'Yes'])\n",
    "plt.xlabel('Actuals')\n",
    "plt.ylabel('Predicted')"
   ]
  },
  {
   "cell_type": "markdown",
   "id": "34569656-716f-463d-ab08-ee47534513f2",
   "metadata": {},
   "source": [
    "#### Decision Tree"
   ]
  },
  {
   "cell_type": "code",
   "execution_count": null,
   "id": "7ce89b39",
   "metadata": {},
   "outputs": [],
   "source": [
    "dtc = DecisionTreeClassifier()\n",
    "\n",
    "dtc.fit(X_train, y_train)"
   ]
  },
  {
   "cell_type": "code",
   "execution_count": null,
   "id": "e66f00b2",
   "metadata": {},
   "outputs": [],
   "source": [
    "dtc_pred = dtc.predict(X_test)"
   ]
  },
  {
   "cell_type": "code",
   "execution_count": null,
   "id": "9e16d4ea",
   "metadata": {},
   "outputs": [],
   "source": [
    "print(\"\\nDecision Tree Model:\")\n",
    "print(f\"{round(accuracy_score(y_test, dtc_pred)*100, 2)} %\")\n",
    "print(classification_report(y_test, dtc_pred))"
   ]
  },
  {
   "cell_type": "code",
   "execution_count": null,
   "id": "a9cfbf2e",
   "metadata": {},
   "outputs": [],
   "source": [
    "conf_mat = confusion_matrix(y_test, dtc_pred)\n",
    "sns.heatmap(conf_mat.T, annot = True, fmt='d', cbar=False,\n",
    "           xticklabels=['No', 'Yes'],\n",
    "           yticklabels=['No', 'Yes'])\n",
    "plt.xlabel('Actuals')\n",
    "plt.ylabel('Predicted')"
   ]
  },
  {
   "cell_type": "markdown",
   "id": "dfd64eac-76de-46d2-b8b1-e377c718f0dc",
   "metadata": {},
   "source": [
    "### KNN"
   ]
  },
  {
   "cell_type": "code",
   "execution_count": null,
   "id": "ff77ca67-8243-485c-931e-feeed8b9cace",
   "metadata": {},
   "outputs": [],
   "source": [
    "knn = KNeighborsClassifier(n_neighbors=5)\n",
    "knn.fit(X_train, y_train)\n",
    "knn_pred = knn.predict(X_test)"
   ]
  },
  {
   "cell_type": "code",
   "execution_count": null,
   "id": "1c58cb48-6adf-442a-ba5d-f8fc1b9edcd8",
   "metadata": {
    "scrolled": true
   },
   "outputs": [],
   "source": [
    "print(\"\\nK-Nearest Neighbors Model:\")\n",
    "print(f\"{round(accuracy_score(y_test, knn_pred)*100, 2)} %\")\n",
    "print(classification_report(y_test, knn_pred))"
   ]
  },
  {
   "cell_type": "code",
   "execution_count": null,
   "id": "3fca3dc9-e16e-4010-b0a4-fce0ae69b16c",
   "metadata": {},
   "outputs": [],
   "source": [
    "conf_mat = confusion_matrix(y_test, knn_pred)\n",
    "sns.heatmap(conf_mat.T, annot = True, fmt='d', cbar=False,\n",
    "           xticklabels=['No', 'Yes'],\n",
    "           yticklabels=['No', 'Yes'])\n",
    "plt.xlabel('Actuals')\n",
    "plt.ylabel('Predicted')"
   ]
  },
  {
   "cell_type": "markdown",
   "id": "775c2a8a-c77d-4bdf-bbb6-f3143d985aa4",
   "metadata": {},
   "source": [
    "#### Support Vector Machines"
   ]
  },
  {
   "cell_type": "code",
   "execution_count": null,
   "id": "c643adae-8620-43c3-a51b-e61343b597c9",
   "metadata": {},
   "outputs": [],
   "source": [
    "svm = SVC(kernel='linear', random_state=42)\n",
    "svm.fit(X_train, y_train)\n",
    "svm_pred = svm.predict(X_test)\n"
   ]
  },
  {
   "cell_type": "code",
   "execution_count": null,
   "id": "6d422ac4-017f-4be1-ae56-c5d2497dfdba",
   "metadata": {},
   "outputs": [],
   "source": [
    "print(\"\\nSupport Vector Machine Model:\")\n",
    "print(f\"{round(accuracy_score(y_test, svm_pred)*100, 2)} %\")\n",
    "print(classification_report(y_test, svm_pred))"
   ]
  }
 ],
 "metadata": {
  "kernelspec": {
   "display_name": "Python 3 (ipykernel)",
   "language": "python",
   "name": "python3"
  },
  "language_info": {
   "codemirror_mode": {
    "name": "ipython",
    "version": 3
   },
   "file_extension": ".py",
   "mimetype": "text/x-python",
   "name": "python",
   "nbconvert_exporter": "python",
   "pygments_lexer": "ipython3",
   "version": "3.11.7"
  }
 },
 "nbformat": 4,
 "nbformat_minor": 5
}
